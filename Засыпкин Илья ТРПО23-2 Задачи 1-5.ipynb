{
 "cells": [
  {
   "cell_type": "code",
   "execution_count": 3,
   "id": "fe154b74",
   "metadata": {},
   "outputs": [
    {
     "name": "stdout",
     "output_type": "stream",
     "text": [
      "Иванов Иван\n"
     ]
    }
   ],
   "source": [
    "class Student:\n",
    "    def __init__(self):\n",
    "        self.name = \"\"\n",
    "\n",
    "    def set_name(self, name):\n",
    "        self.name = name\n",
    "\n",
    "    def get_name(self):\n",
    "        return self.name\n",
    "\n",
    "student1 = Student()\n",
    "student1.set_name(\"Иванов Иван\")\n",
    "print(student1.get_name())"
   ]
  },
  {
   "cell_type": "code",
   "execution_count": 4,
   "id": "386d0080",
   "metadata": {},
   "outputs": [
    {
     "name": "stdout",
     "output_type": "stream",
     "text": [
      "100\n"
     ]
    }
   ],
   "source": [
    "class Product:\n",
    "    def __init__(self):\n",
    "        self.price = 0\n",
    "\n",
    "    def set_price(self, price):\n",
    "        self.price = price\n",
    "\n",
    "    def get_price(self):\n",
    "        return self.price\n",
    "    \n",
    "product1 = Product()\n",
    "product1.set_price(100)\n",
    "print(product1.get_price())"
   ]
  },
  {
   "cell_type": "code",
   "execution_count": 5,
   "id": "845fa541",
   "metadata": {},
   "outputs": [
    {
     "name": "stdout",
     "output_type": "stream",
     "text": [
      "8\n",
      "6\n",
      "12\n",
      "4.0\n",
      "Ошибка: деление на ноль!\n"
     ]
    }
   ],
   "source": [
    "class Calculator:\n",
    "    def add(self, x, y):\n",
    "        return x + y\n",
    "\n",
    "    def subtract(self, x, y):\n",
    "        return x - y\n",
    "\n",
    "    def multiply(self, x, y):\n",
    "        return x * y\n",
    "\n",
    "    def divide(self, x, y):\n",
    "        if y != 0:\n",
    "            return x / y\n",
    "        else:\n",
    "            return \"Ошибка: деление на ноль!\"\n",
    "\n",
    "calc = Calculator()\n",
    "print(calc.add(5, 3))      \n",
    "print(calc.subtract(10, 4))\n",
    "print(calc.multiply(2, 6)) \n",
    "print(calc.divide(8, 2))   \n",
    "print(calc.divide(5, 0))   "
   ]
  },
  {
   "cell_type": "code",
   "execution_count": 6,
   "id": "80e98c2d",
   "metadata": {},
   "outputs": [
    {
     "name": "stdout",
     "output_type": "stream",
     "text": [
      "Газировка и лимон\n",
      "Обычная газировка\n"
     ]
    }
   ],
   "source": [
    "class Soda:\n",
    "    def __init__(self, additive=None):\n",
    "        self.additive = additive\n",
    "\n",
    "    def show_my_drink(self):\n",
    "        if self.additive:\n",
    "            print(f\"Газировка и {self.additive}\")\n",
    "        else:\n",
    "            print(\"Обычная газировка\")\n",
    "\n",
    "\n",
    "soda_with_additive = Soda(\"лимон\")\n",
    "soda_with_additive.show_my_drink()  \n",
    "\n",
    "\n",
    "soda_without_additive = Soda()\n",
    "soda_without_additive.show_my_drink()  "
   ]
  },
  {
   "cell_type": "code",
   "execution_count": 8,
   "id": "41c8540e",
   "metadata": {},
   "outputs": [
    {
     "name": "stdout",
     "output_type": "stream",
     "text": [
      "Ура, можно построить треугольник!\n",
      "С отрицательными числами ничего не выйдет!\n"
     ]
    },
    {
     "ename": "TypeError",
     "evalue": "'<=' not supported between instances of 'str' and 'int'",
     "output_type": "error",
     "traceback": [
      "\u001b[1;31m---------------------------------------------------------------------------\u001b[0m",
      "\u001b[1;31mTypeError\u001b[0m                                 Traceback (most recent call last)",
      "Cell \u001b[1;32mIn[8], line 25\u001b[0m\n\u001b[0;32m     22\u001b[0m \u001b[38;5;28mprint\u001b[39m(triangle_with_negative_side\u001b[38;5;241m.\u001b[39mis_triangle())  \u001b[38;5;66;03m# Выведет: С отрицательными числами ничего не выйдет!\u001b[39;00m\n\u001b[0;32m     24\u001b[0m triangle_with_non_numeric_side \u001b[38;5;241m=\u001b[39m TriangleChecker(\u001b[38;5;241m3\u001b[39m, \u001b[38;5;124m\"\u001b[39m\u001b[38;5;124m4\u001b[39m\u001b[38;5;124m\"\u001b[39m, \u001b[38;5;241m5\u001b[39m)\n\u001b[1;32m---> 25\u001b[0m \u001b[38;5;28mprint\u001b[39m(\u001b[43mtriangle_with_non_numeric_side\u001b[49m\u001b[38;5;241;43m.\u001b[39;49m\u001b[43mis_triangle\u001b[49m\u001b[43m(\u001b[49m\u001b[43m)\u001b[49m)\n",
      "Cell \u001b[1;32mIn[8], line 8\u001b[0m, in \u001b[0;36mTriangleChecker.is_triangle\u001b[1;34m(self)\u001b[0m\n\u001b[0;32m      7\u001b[0m \u001b[38;5;28;01mdef\u001b[39;00m \u001b[38;5;21mis_triangle\u001b[39m(\u001b[38;5;28mself\u001b[39m):\n\u001b[1;32m----> 8\u001b[0m     \u001b[38;5;28;01mif\u001b[39;00m \u001b[38;5;28mself\u001b[39m\u001b[38;5;241m.\u001b[39ma \u001b[38;5;241m<\u001b[39m\u001b[38;5;241m=\u001b[39m \u001b[38;5;241m0\u001b[39m \u001b[38;5;129;01mor\u001b[39;00m \u001b[38;5;28;43mself\u001b[39;49m\u001b[38;5;241;43m.\u001b[39;49m\u001b[43mb\u001b[49m\u001b[43m \u001b[49m\u001b[38;5;241;43m<\u001b[39;49m\u001b[38;5;241;43m=\u001b[39;49m\u001b[43m \u001b[49m\u001b[38;5;241;43m0\u001b[39;49m \u001b[38;5;129;01mor\u001b[39;00m \u001b[38;5;28mself\u001b[39m\u001b[38;5;241m.\u001b[39mc \u001b[38;5;241m<\u001b[39m\u001b[38;5;241m=\u001b[39m \u001b[38;5;241m0\u001b[39m:\n\u001b[0;32m      9\u001b[0m         \u001b[38;5;28;01mreturn\u001b[39;00m \u001b[38;5;124m\"\u001b[39m\u001b[38;5;124mС отрицательными числами ничего не выйдет!\u001b[39m\u001b[38;5;124m\"\u001b[39m\n\u001b[0;32m     10\u001b[0m     \u001b[38;5;28;01melif\u001b[39;00m \u001b[38;5;129;01mnot\u001b[39;00m \u001b[38;5;28mall\u001b[39m(\u001b[38;5;28misinstance\u001b[39m(side, (\u001b[38;5;28mint\u001b[39m, \u001b[38;5;28mfloat\u001b[39m)) \u001b[38;5;28;01mfor\u001b[39;00m side \u001b[38;5;129;01min\u001b[39;00m [\u001b[38;5;28mself\u001b[39m\u001b[38;5;241m.\u001b[39ma, \u001b[38;5;28mself\u001b[39m\u001b[38;5;241m.\u001b[39mb, \u001b[38;5;28mself\u001b[39m\u001b[38;5;241m.\u001b[39mc]):\n",
      "\u001b[1;31mTypeError\u001b[0m: '<=' not supported between instances of 'str' and 'int'"
     ]
    }
   ],
   "source": [
    "class TriangleChecker:\n",
    "    def __init__(self, a, b, c):\n",
    "        self.a = a\n",
    "        self.b = b\n",
    "        self.c = c\n",
    "\n",
    "    def is_triangle(self):\n",
    "        if self.a <= 0 or self.b <= 0 or self.c <= 0:\n",
    "            return \"С отрицательными числами ничего не выйдет!\"\n",
    "        elif not all(isinstance(side, (int, float)) for side in [self.a, self.b, self.c]):\n",
    "            return \"Нужно вводить только числа!\"\n",
    "        elif self.a + self.b > self.c and self.a + self.c > self.b and self.b + self.c > self.a:\n",
    "            return \"Ура, можно построить треугольник!\"\n",
    "        else:\n",
    "            return \"Жаль, но из этого треугольник не сделать.\"\n",
    "\n",
    "# Создаем экземпляр класса TriangleChecker\n",
    "triangle = TriangleChecker(3, 4, 5)\n",
    "print(triangle.is_triangle())  # Выведет: Ура, можно построить треугольник!\n",
    "\n",
    "triangle_with_negative_side = TriangleChecker(3, -4, 5)\n",
    "print(triangle_with_negative_side.is_triangle())  # Выведет: С отрицательными числами ничего не выйдет!\n",
    "\n",
    "triangle_with_non_numeric_side = TriangleChecker(3, \"4\", 5)\n",
    "print(triangle_with_non_numeric_side.is_triangle())  # Выведет: Нужно вводить только числа!"
   ]
  },
  {
   "cell_type": "code",
   "execution_count": null,
   "id": "7d5c1866",
   "metadata": {},
   "outputs": [],
   "source": []
  }
 ],
 "metadata": {
  "kernelspec": {
   "display_name": "Python 3 (ipykernel)",
   "language": "python",
   "name": "python3"
  },
  "language_info": {
   "codemirror_mode": {
    "name": "ipython",
    "version": 3
   },
   "file_extension": ".py",
   "mimetype": "text/x-python",
   "name": "python",
   "nbconvert_exporter": "python",
   "pygments_lexer": "ipython3",
   "version": "3.10.9"
  }
 },
 "nbformat": 4,
 "nbformat_minor": 5
}
