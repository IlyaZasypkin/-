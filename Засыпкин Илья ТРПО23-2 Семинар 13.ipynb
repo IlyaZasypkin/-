{
 "cells": [
  {
   "cell_type": "code",
   "execution_count": 1,
   "id": "2ea31b08",
   "metadata": {},
   "outputs": [
    {
     "name": "stdout",
     "output_type": "stream",
     "text": [
      "[1, 2, 3]\n",
      "2\n",
      "[1, 5, 3]\n",
      "[5, 3]\n",
      "2\n"
     ]
    }
   ],
   "source": [
    "class DynamicArray:\n",
    "    def __init__(self):\n",
    "        self.data = []\n",
    "\n",
    "    def append(self, e):\n",
    "        self.data.append(e)\n",
    "\n",
    "    def get(self, index):\n",
    "        return self.data[index]\n",
    "\n",
    "    def set(self, index, value):\n",
    "        self.data[index] = value\n",
    "\n",
    "    def remove(self, index):\n",
    "        del self.data[index]\n",
    "\n",
    "    def length(self):\n",
    "        return len(self.data)\n",
    "\n",
    "    def __str__(self):\n",
    "        return str(self.data)\n",
    "\n",
    "# Пример использования\n",
    "arr = DynamicArray()\n",
    "arr.append(1)\n",
    "arr.append(2)\n",
    "arr.append(3)\n",
    "print(arr)\n",
    "print(arr.get(1))\n",
    "arr.set(1, 5)\n",
    "print(arr)\n",
    "arr.remove(0)\n",
    "print(arr)\n",
    "print(arr.length())\n"
   ]
  },
  {
   "cell_type": "code",
   "execution_count": 2,
   "id": "6e785b7a",
   "metadata": {},
   "outputs": [
    {
     "name": "stdout",
     "output_type": "stream",
     "text": [
      "3\n",
      "6\n",
      "2\n",
      "5\n",
      "1\n",
      "4\n"
     ]
    }
   ],
   "source": [
    "from collections import deque\n",
    "\n",
    "def dequeue_generator(q1, q2):\n",
    "    while q1 or q2:\n",
    "        if q1:\n",
    "            yield q1.pop()\n",
    "        if q2:\n",
    "            yield q2.pop()\n",
    "\n",
    "# Пример использования\n",
    "q1 = deque([1, 2, 3])\n",
    "q2 = deque([4, 5, 6])\n",
    "gen = dequeue_generator(q1, q2)\n",
    "for val in gen:\n",
    "    print(val)\n"
   ]
  },
  {
   "cell_type": "code",
   "execution_count": 3,
   "id": "c2aa8169",
   "metadata": {},
   "outputs": [
    {
     "name": "stdout",
     "output_type": "stream",
     "text": [
      "deque([2, 4])\n",
      "deque([1])\n"
     ]
    }
   ],
   "source": [
    "from collections import deque\n",
    "\n",
    "class Pump:\n",
    "    def __init__(self, queue):\n",
    "        self.queue = queue\n",
    "\n",
    "    def action(self, gen):\n",
    "        try:\n",
    "            value = next(gen)\n",
    "            self.queue.append(value)\n",
    "        except StopIteration:\n",
    "            pass\n",
    "\n",
    "class MultiAction:\n",
    "    def __init__(self, n, action_class):\n",
    "        self.n = n\n",
    "        self.action_class = action_class\n",
    "\n",
    "    def action(self, gen):\n",
    "        for _ in range(self.n):\n",
    "            self.action_class.action(gen)\n",
    "\n",
    "class MultiPump:\n",
    "    def __init__(self, queues):\n",
    "        self.queues = queues\n",
    "\n",
    "    def action(self, gen):\n",
    "        for queue in self.queues:\n",
    "            try:\n",
    "                value = next(gen)\n",
    "                queue.append(value)\n",
    "            except StopIteration:\n",
    "                pass\n",
    "\n",
    "# Пример использования\n",
    "q1 = deque()\n",
    "q2 = deque()\n",
    "gen = dequeue_generator(deque([1, 2]), deque([3, 4]))\n",
    "pump = Pump(q1)\n",
    "multi_pump = MultiPump([q1, q2])\n",
    "pump.action(gen)\n",
    "multi_pump.action(gen)\n",
    "print(q1)\n",
    "print(q2)\n"
   ]
  },
  {
   "cell_type": "code",
   "execution_count": 4,
   "id": "6124b35f",
   "metadata": {},
   "outputs": [
    {
     "name": "stdout",
     "output_type": "stream",
     "text": [
      "deque(['Hello'])\n",
      "deque(['Hi'])\n",
      "deque(['Hey'])\n"
     ]
    }
   ],
   "source": [
    "import random\n",
    "\n",
    "def message_generator():\n",
    "    messages = ['Hello', 'Hi', 'Hey']\n",
    "    while True:\n",
    "        yield random.choice(messages)\n",
    "\n",
    "# Пример использования\n",
    "q1 = deque()\n",
    "q2 = deque()\n",
    "q3 = deque()\n",
    "gen_messages = message_generator()\n",
    "pump1 = Pump(q1)\n",
    "pump2 = Pump(q2)\n",
    "pump3 = Pump(q3)\n",
    "multi_pump = MultiPump([q1, q2, q3])\n",
    "multi_pump.action(gen_messages)\n",
    "print(q1)\n",
    "print(q2)\n",
    "print(q3)\n"
   ]
  },
  {
   "cell_type": "code",
   "execution_count": null,
   "id": "f42ddb8c",
   "metadata": {},
   "outputs": [],
   "source": []
  }
 ],
 "metadata": {
  "kernelspec": {
   "display_name": "Python 3 (ipykernel)",
   "language": "python",
   "name": "python3"
  },
  "language_info": {
   "codemirror_mode": {
    "name": "ipython",
    "version": 3
   },
   "file_extension": ".py",
   "mimetype": "text/x-python",
   "name": "python",
   "nbconvert_exporter": "python",
   "pygments_lexer": "ipython3",
   "version": "3.9.7"
  }
 },
 "nbformat": 4,
 "nbformat_minor": 5
}
