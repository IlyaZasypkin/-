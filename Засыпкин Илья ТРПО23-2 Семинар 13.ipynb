{
 "cells": [
  {
   "cell_type": "code",
   "execution_count": 2,
   "id": "d3bc5d70",
   "metadata": {},
   "outputs": [
    {
     "ename": "SyntaxError",
     "evalue": "unmatched ')' (1814282417.py, line 1)",
     "output_type": "error",
     "traceback": [
      "\u001b[1;36m  Cell \u001b[1;32mIn[2], line 1\u001b[1;36m\u001b[0m\n\u001b[1;33m    1) Реализовать простейший динамический массив, поддерживающий добавление элемента в конец массива при помощи метода append(e).\u001b[0m\n\u001b[1;37m     ^\u001b[0m\n\u001b[1;31mSyntaxError\u001b[0m\u001b[1;31m:\u001b[0m unmatched ')'\n"
     ]
    }
   ],
   "source": [
    "1) Реализовать простейший динамический массив, поддерживающий добавление элемента в конец массива при помощи метода append(e)."
   ]
  },
  {
   "cell_type": "code",
   "execution_count": 12,
   "id": "cc899191",
   "metadata": {},
   "outputs": [
    {
     "name": "stdout",
     "output_type": "stream",
     "text": [
      "2\n",
      "5\n",
      "3\n"
     ]
    }
   ],
   "source": [
    "class DynamicArray:\n",
    "    def __init__(self):\n",
    "        self.data = []\n",
    "    \n",
    "    def append(self, e):\n",
    "        self.data.append(e)\n",
    "    \n",
    "    def get(self, index):\n",
    "        if 0 <= index < len(self.data):\n",
    "            return self.data[index]\n",
    "        else:\n",
    "            raise IndexError(\"Index out of range\")\n",
    "    \n",
    "    def set(self, index, value):\n",
    "        if 0 <= index < len(self.data):\n",
    "            self.data[index] = value\n",
    "        else:\n",
    "            raise IndexError(\"Index out of range\")\n",
    "    \n",
    "    def length(self):\n",
    "        return len(self.data)\n",
    "\n",
    "arr = DynamicArray()\n",
    "arr.append(1)\n",
    "arr.append(2)\n",
    "arr.append(3)\n",
    "\n",
    "print(arr.get(1))  \n",
    "\n",
    "arr.set(1, 5)\n",
    "print(arr.get(1))  \n",
    "\n",
    "print(arr.length()) "
   ]
  },
  {
   "cell_type": "code",
   "execution_count": null,
   "id": "cfef009a",
   "metadata": {},
   "outputs": [],
   "source": [
    "\n",
    "1.1) Добавить реализацию удаления\n",
    "элемента из любого места массива и поддержку корректного вывода массива при помощи функции print."
   ]
  },
  {
   "cell_type": "code",
   "execution_count": 13,
   "id": "fd6cfca0",
   "metadata": {},
   "outputs": [
    {
     "name": "stdout",
     "output_type": "stream",
     "text": [
      "[1, 2, 3, 4]\n",
      "[1, 3, 4]\n"
     ]
    }
   ],
   "source": [
    "class DynamicArray:\n",
    "    def __init__(self):\n",
    "        self.array = []\n",
    "\n",
    "    def append(self, e):\n",
    "        self.array.append(e)\n",
    "\n",
    "    def get(self, index):\n",
    "        if 0 <= index < len(self.array):\n",
    "            return self.array[index]\n",
    "        else:\n",
    "            raise IndexError(\"Index out of range\")\n",
    "\n",
    "    def set(self, index, value):\n",
    "        if 0 <= index < len(self.array):\n",
    "            self.array[index] = value\n",
    "        else:\n",
    "            raise IndexError(\"Index out of range\")\n",
    "\n",
    "    def delete(self, index):\n",
    "        if 0 <= index < len(self.array):\n",
    "            del self.array[index]\n",
    "        else:\n",
    "            raise IndexError(\"Index out of range\")\n",
    "\n",
    "    def length(self):\n",
    "        return len(self.array)\n",
    "\n",
    "    def __str__(self):\n",
    "        return str(self.array)\n",
    "    \n",
    "dyn_array = DynamicArray()\n",
    "dyn_array.append(1)\n",
    "dyn_array.append(2)\n",
    "dyn_array.append(3)\n",
    "dyn_array.append(4)\n",
    "\n",
    "print(dyn_array)\n",
    "\n",
    "dyn_array.delete(1)\n",
    "print(dyn_array)  "
   ]
  },
  {
   "cell_type": "code",
   "execution_count": null,
   "id": "d77f75b2",
   "metadata": {},
   "outputs": [],
   "source": [
    "2) Реализовать генератор, который возвращает значение поочередно\n",
    "извлекаемое из конца двух очередей (в качестве очереди используется deque из collections).\n",
    "Если очередь из которой извлекается элемент пуста - генератор заканчивает работу."
   ]
  },
  {
   "cell_type": "code",
   "execution_count": 14,
   "id": "b46ab9ed",
   "metadata": {},
   "outputs": [
    {
     "name": "stdout",
     "output_type": "stream",
     "text": [
      "3\n",
      "6\n",
      "2\n",
      "5\n",
      "1\n",
      "4\n"
     ]
    }
   ],
   "source": [
    "from collections import deque\n",
    "\n",
    "def extract_from_queues(queue1, queue2):\n",
    "    while queue1 or queue2: \n",
    "        if queue1:\n",
    "            yield queue1.pop()\n",
    "        if queue2:\n",
    "            yield queue2.pop()\n",
    "\n",
    "queue1 = deque([1, 2, 3])\n",
    "queue2 = deque([4, 5, 6])\n",
    "\n",
    "for value in extract_from_queues(queue1, queue2):\n",
    "    print(value)\n"
   ]
  },
  {
   "cell_type": "code",
   "execution_count": null,
   "id": "d6d9532c",
   "metadata": {},
   "outputs": [],
   "source": [
    "\n",
    "3) Реализовать классы с медодом action():\n",
    "а) Класс Pump - в методе action() извлекает очередное\n",
    "значение из генератора и помещает значение в очередь (очередь передается в конструктор)."
   ]
  },
  {
   "cell_type": "code",
   "execution_count": 9,
   "id": "078e49cb",
   "metadata": {},
   "outputs": [
    {
     "name": "stdout",
     "output_type": "stream",
     "text": [
      "[0]\n"
     ]
    }
   ],
   "source": [
    "class Pump:\n",
    "    def __init__(self, queue):\n",
    "        self.queue = queue\n",
    "\n",
    "    def action(self, generator):\n",
    "        value = next(generator, None)\n",
    "        if value is not None:\n",
    "            self.queue.append(value)\n",
    "\n",
    "\n",
    "queue = []\n",
    "generator = (i for i in range(10))\n",
    "\n",
    "pump = Pump(queue)\n",
    "pump.action(generator)\n",
    "\n",
    "print(queue)  "
   ]
  },
  {
   "cell_type": "code",
   "execution_count": null,
   "id": "dcdf470f",
   "metadata": {},
   "outputs": [],
   "source": [
    "b) Класс MultiAction - при вызове метода action() n раз вызвает\n",
    "метод action() класса, переданного в конструкторе. Число n также определяется в конструкторе."
   ]
  },
  {
   "cell_type": "code",
   "execution_count": 10,
   "id": "831b78d5",
   "metadata": {},
   "outputs": [
    {
     "name": "stdout",
     "output_type": "stream",
     "text": [
      "[0, 1, 2]\n"
     ]
    }
   ],
   "source": [
    "class MultiAction:\n",
    "    def __init__(self, obj, n):\n",
    "        self.obj = obj\n",
    "        self.n = n\n",
    "\n",
    "    def action(self, generator):\n",
    "        for _ in range(self.n):\n",
    "            self.obj.action(generator)\n",
    "\n",
    "\n",
    "queue = []\n",
    "generator = (i for i in range(10))\n",
    "\n",
    "pump = Pump(queue)\n",
    "multi_action = MultiAction(pump, 3)\n",
    "multi_action.action(generator)\n",
    "\n",
    "print(queue)  "
   ]
  },
  {
   "cell_type": "code",
   "execution_count": null,
   "id": "f49a114b",
   "metadata": {},
   "outputs": [],
   "source": [
    "c) Класс MultiPump - в методе action() извлекает очередное значение из генератора и помещает значение в одну из очередей\n",
    "(очереди передается в конструкторе); очереди , в которые помещаются очередные значения, меняются по порядку."
   ]
  },
  {
   "cell_type": "code",
   "execution_count": 11,
   "id": "f1b31559",
   "metadata": {},
   "outputs": [
    {
     "name": "stdout",
     "output_type": "stream",
     "text": [
      "[0, 2, 4, 6, 8]\n",
      "[1, 3, 5, 7, 9]\n"
     ]
    }
   ],
   "source": [
    "class MultiPump:\n",
    "    def __init__(self, queues):\n",
    "        self.queues = queues\n",
    "\n",
    "    def action(self, generator):\n",
    "        for value in generator:\n",
    "            queue = self.queues.pop(0)\n",
    "            queue.append(value)\n",
    "            self.queues.append(queue)\n",
    "\n",
    "\n",
    "queue1 = []\n",
    "queue2 = []\n",
    "queues = [queue1, queue2]\n",
    "generator = (i for i in range(10))\n",
    "\n",
    "multi_pump = MultiPump(queues)\n",
    "multi_pump.action(generator)\n",
    "\n",
    "print(queue1)  \n",
    "print(queue2)  "
   ]
  },
  {
   "cell_type": "code",
   "execution_count": null,
   "id": "032d84a7",
   "metadata": {},
   "outputs": [],
   "source": []
  }
 ],
 "metadata": {
  "kernelspec": {
   "display_name": "Python 3 (ipykernel)",
   "language": "python",
   "name": "python3"
  },
  "language_info": {
   "codemirror_mode": {
    "name": "ipython",
    "version": 3
   },
   "file_extension": ".py",
   "mimetype": "text/x-python",
   "name": "python",
   "nbconvert_exporter": "python",
   "pygments_lexer": "ipython3",
   "version": "3.10.9"
  }
 },
 "nbformat": 4,
 "nbformat_minor": 5
}
