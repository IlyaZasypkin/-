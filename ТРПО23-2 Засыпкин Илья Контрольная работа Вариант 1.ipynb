{
 "cells": [
  {
   "cell_type": "markdown",
   "metadata": {},
   "source": [
    "### Контрольная работа № 1.\n",
    "### Вариант 1.\n",
    "#### Студент ___Засыпкин Илья__ группа _ТРПО23-2_____________________"
   ]
  },
  {
   "cell_type": "markdown",
   "metadata": {},
   "source": [
    "1. Создайте класс Length (Длина), имеющий свойства\n",
    "\n",
    "• value (значение),\n",
    "\n",
    "• unit (единица измерения).\n",
    "\n",
    "При изменении единицы измерения значение должно соответственно меняться. Например, при переходе от сантиметров к метрам значение должно уменьшаться в 100 раз. Допустимые значения свойства unit: ‘см’, ‘м’, ‘км’. Организуйте эту проверку. Продемонстрируйте работу с классом."
   ]
  },
  {
   "cell_type": "code",
   "execution_count": 13,
   "metadata": {},
   "outputs": [
    {
     "name": "stdout",
     "output_type": "stream",
     "text": [
      "1000 м\n",
      "1.0 км\n",
      "100000.0 см\n"
     ]
    }
   ],
   "source": [
    "# Решение 1.\n",
    "\n",
    "class Length:\n",
    "    def __init__(self, value, unit):\n",
    "        self.value = value\n",
    "        self.unit = unit\n",
    "\n",
    "    def convert_unit(self, new_unit):\n",
    "        if self.unit == 'см' and new_unit == 'м':\n",
    "            self.value /= 100\n",
    "        elif self.unit == 'см' and new_unit == 'км':\n",
    "            self.value /= 100000\n",
    "        elif self.unit == 'м' and new_unit == 'см':\n",
    "            self.value *= 100\n",
    "        elif self.unit == 'м' and new_unit == 'км':\n",
    "            self.value /= 1000\n",
    "        elif self.unit == 'км' and new_unit == 'см':\n",
    "            self.value *= 100000\n",
    "        elif self.unit == 'км' and new_unit == 'м':\n",
    "            self.value *= 1000\n",
    "        else:\n",
    "            print(\"Недопустимая конвертация единиц измерения.\")\n",
    "            return\n",
    "\n",
    "        self.unit = new_unit\n",
    "\n",
    "    def __str__(self):\n",
    "        return f\"{self.value} {self.unit}\"\n",
    "\n",
    "\n",
    "# Пример использования класса\n",
    "length = Length(1000, 'м')\n",
    "print(length) \n",
    "\n",
    "length.convert_unit('км')\n",
    "print(length) \n",
    "\n",
    "length.convert_unit('см')\n",
    "print(length) \n"
   ]
  },
  {
   "cell_type": "markdown",
   "metadata": {},
   "source": [
    "2. Создайте класс Ведомость, имеющий\n",
    "атрибут класса:\n",
    "\n",
    "• список_дисциплин (значением является список с названиями дисциплин);\n",
    "\n",
    "свойства:\n",
    "\n",
    "• дисциплина (при задании значения проверять наличие дисциплины в атрибуте список_дисциплин),\n",
    "\n",
    "• группа;\n",
    "\n",
    "методы:\n",
    "\n",
    "• put – добавляет в ведомость информацию об оценке студента (фамилия, оценка – параметры метода). Для хранения данных внутри класса используйте словарь, в котором ключом является фамилия студента. Возможные оценки – «отлично», «хорошо», «удовл.», «неудовл.», «н/я»;\n",
    "\n",
    "• get – возвращает оценку, полученную студентом (фамилия студента – параметр метода);\n",
    "\n",
    "• change – изменяет оценку, полученную студентом (фамилия студента и новая оценка – параметры метода);\n",
    "\n",
    "• del – удаляет информацию о студенте из ведомости (фамилия студента – параметр метода);\n",
    "\n",
    "• result – возвращает кортеж из 5 чисел (количество каждого вида оценок в ведомости);\n",
    "\n",
    "• __init__ – конструктор;\n",
    "\n",
    "• __str__ – возвращает строку, содержащую заголовки (название экзамена, группа) и результаты экзамена в виде таблицы;\n",
    "\n",
    "• count – возвращает количество студентов в ведомости;\n",
    "\n",
    "• names – возвращает список фамилий, имеющихся в ведомости.\n",
    "\n",
    "Продемонстрируйте работу с классом. \n"
   ]
  },
  {
   "cell_type": "code",
   "execution_count": 14,
   "metadata": {},
   "outputs": [
    {
     "name": "stdout",
     "output_type": "stream",
     "text": [
      "Экзамен: Математика\n",
      "Группа: Группа 1\n",
      "Иванов: отлично\n",
      "Петров: хорошо\n",
      "Сидоров: удовл.\n",
      "(0, 1, 0, 1, 0)\n",
      "['Иванов', 'Петров']\n",
      "2\n"
     ]
    }
   ],
   "source": [
    "# Решение 2.\n",
    "\n",
    "class GradeBook:\n",
    "    список_дисциплин = ['Математика', 'Физика', 'Химия']\n",
    "\n",
    "    def __init__(self, дисциплина, группа):\n",
    "        if дисциплина not in GradeBook.список_дисциплин:\n",
    "            raise ValueError(\"Дисциплина не найдена в списке допустимых дисциплин.\")\n",
    "        self.дисциплина = дисциплина\n",
    "        self.группа = группа\n",
    "        self.ведомость = {}\n",
    "\n",
    "    def put(self, фамилия, оценка):\n",
    "        возможные_оценки = ['отлично', 'хорошо', 'удовл.', 'неудовл.', 'н/я']\n",
    "        if оценка not in возможные_оценки:\n",
    "            raise ValueError(\"Недопустимая оценка.\")\n",
    "        self.ведомость[фамилия] = оценка\n",
    "\n",
    "    def get(self, фамилия):\n",
    "        return self.ведомость.get(фамилия)\n",
    "\n",
    "    def change(self, фамилия, новая_оценка):\n",
    "        if фамилия in self.ведомость:\n",
    "            self.ведомость[фамилия] = новая_оценка\n",
    "        else:\n",
    "            raise ValueError(\"Студент не найден в ведомости.\")\n",
    "\n",
    "    def delete(self, фамилия):\n",
    "        if фамилия in self.ведомость:\n",
    "            del self.ведомость[фамилия]\n",
    "        else:\n",
    "            raise ValueError(\"Студент не найден в ведомости.\")\n",
    "\n",
    "    def result(self):\n",
    "        количества_оценок = [list(self.ведомость.values()).count(оценка) for оценка in ['отлично', 'хорошо', 'удовл.', 'неудовл.', 'н/я']]\n",
    "        return tuple(количества_оценок)\n",
    "\n",
    "    def __str__(self):\n",
    "        заголовки = f\"Экзамен: {self.дисциплина}\\nГруппа: {self.группа}\\n\"\n",
    "        результаты = \"\\n\".join([f\"{фамилия}: {оценка}\" for фамилия, оценка in self.ведомость.items()])\n",
    "        return заголовки + результаты\n",
    "\n",
    "    def count(self):\n",
    "        return len(self.ведомость)\n",
    "\n",
    "    def names(self):\n",
    "        return list(self.ведомость.keys())\n",
    "\n",
    "\n",
    "# Пример использования класса\n",
    "vedomost = GradeBook('Математика', 'Группа 1')\n",
    "vedomost.put('Иванов', 'отлично')\n",
    "vedomost.put('Петров', 'хорошо')\n",
    "vedomost.put('Сидоров', 'удовл.')\n",
    "print(vedomost)\n",
    "\n",
    "vedomost.change('Иванов', 'неудовл.')\n",
    "vedomost.delete('Сидоров')\n",
    "print(vedomost.result())\n",
    "print(vedomost.names())\n",
    "print(vedomost.count())\n"
   ]
  },
  {
   "cell_type": "markdown",
   "metadata": {},
   "source": [
    "3. Создайте класс Заказ(Order), у которого есть свойства код_товара(code), цена(price), количество(count) и методы __init__ и __str__.\n",
    "\n",
    "Создайте 2 класса-потомка: Опт(Opt) и Розница(Retail).\n",
    "В этих классах создайте методы __init__, __str__.и сумма_заказа(summa), позволяющий узнать стоимость заказа.\n",
    "Для опта стоимость единицы товара составляет 95% от цены, а при покупке более 500 штук – 90% цены.\n",
    "В розницу стоимость единицы товара составляет 100% цены. Стоимость заказа равна произведению цены на количество. \n",
    "\n",
    "Продемонстрируйте работу с классами, создав необходимые объекты и обратившись к их свойствам и методам\n"
   ]
  },
  {
   "cell_type": "code",
   "execution_count": 15,
   "metadata": {},
   "outputs": [
    {
     "name": "stdout",
     "output_type": "stream",
     "text": [
      "Товар: Товар1, Цена: 100, Количество: 600, Стоимость заказа: 54000.0\n",
      "Товар: Товар2, Цена: 150, Количество: 10, Стоимость заказа: 1500\n"
     ]
    }
   ],
   "source": [
    "# Решение 3.\n",
    "\n",
    "class Order:\n",
    "    def __init__(self, code, price, count):\n",
    "        self.code = code\n",
    "        self.price = price\n",
    "        self.count = count\n",
    "\n",
    "    def __str__(self):\n",
    "        return f\"Товар: {self.code}, Цена: {self.price}, Количество: {self.count}\"\n",
    "\n",
    "\n",
    "class Opt(Order):\n",
    "    def __init__(self, code, price, count):\n",
    "        super().__init__(code, price, count)\n",
    "\n",
    "    def summa(self):\n",
    "        if self.count > 500:\n",
    "            return self.price * self.count * 0.9\n",
    "        else:\n",
    "            return self.price * self.count * 0.95\n",
    "\n",
    "    def __str__(self):\n",
    "        return super().__str__() + f\", Стоимость заказа: {self.summa()}\"\n",
    "\n",
    "\n",
    "class Retail(Order):\n",
    "    def __init__(self, code, price, count):\n",
    "        super().__init__(code, price, count)\n",
    "\n",
    "    def summa(self):\n",
    "        return self.price * self.count\n",
    "\n",
    "    def __str__(self):\n",
    "        return super().__str__() + f\", Стоимость заказа: {self.summa()}\"\n",
    "\n",
    "\n",
    "# Пример использования классов\n",
    "opt_order = Opt('Товар1', 100, 600)\n",
    "retail_order = Retail('Товар2', 150, 10)\n",
    "\n",
    "print(opt_order)\n",
    "print(retail_order)\n"
   ]
  },
  {
   "cell_type": "markdown",
   "metadata": {},
   "source": [
    "4. Написать функцию my_func_1(lst), которая переворачивает список вложенных списков с произвольным уровнем вложенности.\n",
    "Любой элемент, не являющийся списком, не должен быть изменен.\n",
    "\n",
    "Примеры, демонстрирующие ожидаемое поведение функции:\n",
    "\n",
    "assert my_func_1(42) == 42\n",
    "\n",
    "assert my_func_1([]) == []\n",
    "\n",
    "assert my_func_1([1, 2]) == [2, 1]\n",
    "\n",
    "assert my_func_1((1, 2)) == (1, 2)\n",
    "\n",
    "assert my_func_1([[1, 2], [3, [4, 5]], 6]) == [6, [[5, 4], 3], [2, 1]]\n",
    "\n",
    "assert my_func_1(['123', '456', '789', {10: [11, 12], 13: 14}, (15, 16)]) == [(15, 16), {10: [11, 12], 13: 14}, '789', '456', '123']\n",
    "\n",
    "assert my_func_1([[[[[1, 2]]]]]) == [[[[[2, 1]]]]]"
   ]
  },
  {
   "cell_type": "code",
   "execution_count": 16,
   "metadata": {},
   "outputs": [
    {
     "name": "stdout",
     "output_type": "stream",
     "text": [
      "42\n",
      "[]\n",
      "[2, 1]\n",
      "(1, 2)\n",
      "[6, [[5, 4], 3], [2, 1]]\n",
      "[(15, 16), {10: [11, 12], 13: 14}, '789', '456', '123']\n",
      "[[[[[2, 1]]]]]\n"
     ]
    }
   ],
   "source": [
    "# Решение 4.\n",
    "\n",
    "def my_func_1(lst):\n",
    "    if not isinstance(lst, list):  # Если элемент не является списком, возвращаем его без изменений\n",
    "        return lst\n",
    "    return [my_func_1(sub_lst) for sub_lst in reversed(lst)]\n",
    "\n",
    "\n",
    "assert my_func_1(42) == 42\n",
    "assert my_func_1([]) == []\n",
    "assert my_func_1([1, 2]) == [2, 1]\n",
    "assert my_func_1((1, 2)) == (1, 2)\n",
    "assert my_func_1([[1, 2], [3, [4, 5]], 6]) == [6, [[5, 4], 3], [2, 1]]\n",
    "assert my_func_1(['123', '456', '789', {10: [11, 12], 13: 14}, (15, 16)]) == [(15, 16), {10: [11, 12], 13: 14}, '789', '456', '123']\n",
    "assert my_func_1([[[[[1, 2]]]]]) == [[[[[2, 1]]]]]\n",
    "\n",
    "\n",
    "# Примеры использования функции\n",
    "print(my_func_1(42))  \n",
    "print(my_func_1([]))  \n",
    "print(my_func_1([1, 2]))  \n",
    "print(my_func_1((1, 2)))  \n",
    "print(my_func_1([[1, 2], [3, [4, 5]], 6]))  \n",
    "print(my_func_1(['123', '456', '789', {10: [11, 12], 13: 14}, (15, 16)]))  \n",
    "print(my_func_1([[[[[1, 2]]]]]))  \n",
    "\n"
   ]
  },
  {
   "cell_type": "markdown",
   "metadata": {},
   "source": [
    "5.При помощи механизма map/filter/reduce возвести в квадрат числа от 1 до 100, и рассчитать их сумму, не включая в сумму числа, кратные 9. Написать реализацию в одну строку."
   ]
  },
  {
   "cell_type": "code",
   "execution_count": 17,
   "metadata": {},
   "outputs": [
    {
     "name": "stdout",
     "output_type": "stream",
     "text": [
      "225589\n"
     ]
    }
   ],
   "source": [
    "# Решение 5.\n",
    "\n",
    "from functools import reduce\n",
    "\n",
    "result = reduce(lambda x, y: x + y, filter(lambda x: x % 9 != 0, map(lambda x: x**2, range(1, 101))))\n",
    "print(result)\n"
   ]
  },
  {
   "cell_type": "code",
   "execution_count": null,
   "metadata": {},
   "outputs": [],
   "source": []
  }
 ],
 "metadata": {
  "kernelspec": {
   "display_name": "Python 3 (ipykernel)",
   "language": "python",
   "name": "python3"
  },
  "language_info": {
   "codemirror_mode": {
    "name": "ipython",
    "version": 3
   },
   "file_extension": ".py",
   "mimetype": "text/x-python",
   "name": "python",
   "nbconvert_exporter": "python",
   "pygments_lexer": "ipython3",
   "version": "3.10.9"
  }
 },
 "nbformat": 4,
 "nbformat_minor": 4
}
