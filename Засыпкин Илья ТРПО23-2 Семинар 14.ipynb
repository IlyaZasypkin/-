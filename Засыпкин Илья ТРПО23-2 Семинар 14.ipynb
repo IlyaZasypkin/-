{
 "cells": [
  {
   "cell_type": "code",
   "execution_count": 3,
   "id": "69ec8278",
   "metadata": {},
   "outputs": [
    {
     "name": "stdout",
     "output_type": "stream",
     "text": [
      "[1, 2, 3, 4, 5]\n",
      "[5, 4, 3, 2, 1]\n",
      "[183, 12, 154, 828, 425]\n",
      "[4, 2, 3, 1, 5]\n"
     ]
    }
   ],
   "source": [
    "import random\n",
    "\n",
    "# Функция для генерации отсортированного списка по возрастанию\n",
    "def generate_sorted_list_asc(length):\n",
    "    return list(range(1, length+1))\n",
    "\n",
    "# Функция для генерации отсортированного списка по убыванию\n",
    "def generate_sorted_list_desc(length):\n",
    "    return list(range(length, 0, -1))\n",
    "\n",
    "# Функция для генерации случайного списка\n",
    "def generate_random_list(length):\n",
    "    return [random.randint(1, 1000) for _ in range(length)]\n",
    "\n",
    "# Функция для генерации почти отсортированного списка по возрастанию\n",
    "def generate_almost_sorted_list_asc(length):\n",
    "    lst = list(range(1, length+1))\n",
    "    random.shuffle(lst)\n",
    "    return lst\n",
    "\n",
    "# Пример использования функций\n",
    "print(generate_sorted_list_asc(5))\n",
    "print(generate_sorted_list_desc(5))\n",
    "print(generate_random_list(5))\n",
    "print(generate_almost_sorted_list_asc(5))\n"
   ]
  },
  {
   "cell_type": "code",
   "execution_count": 10,
   "id": "40ce5e2c",
   "metadata": {},
   "outputs": [
    {
     "name": "stdout",
     "output_type": "stream",
     "text": [
      "List length: 10\n",
      "Comparisons - Min: 0, Avg: 0.0, Max: 0\n",
      "Swaps - Min: 0, Avg: 0.0, Max: 0\n",
      "\n",
      "List length: 100\n",
      "Comparisons - Min: 0, Avg: 0.0, Max: 0\n",
      "Swaps - Min: 0, Avg: 0.0, Max: 0\n",
      "\n",
      "List length: 1000\n",
      "Comparisons - Min: 0, Avg: 0.0, Max: 0\n",
      "Swaps - Min: 0, Avg: 0.0, Max: 0\n",
      "\n"
     ]
    }
   ],
   "source": [
    "\n",
    "import random\n",
    "\n",
    "def test_sorting_algorithm(algorithm, f_gen, repetitions, list_lengths):\n",
    "    for length in list_lengths:\n",
    "        comparisons = []\n",
    "        swaps = []\n",
    "        \n",
    "        for _ in range(repetitions):\n",
    "            arr = f_gen(length)\n",
    "            result = algorithm(arr)\n",
    "            comparisons.append(result['comparisons'])\n",
    "            swaps.append(result['swaps'])\n",
    "        \n",
    "        min_comparisons = min(comparisons)\n",
    "        avg_comparisons = sum(comparisons) / repetitions\n",
    "        max_comparisons = max(comparisons)\n",
    "        \n",
    "        min_swaps = min(swaps)\n",
    "        avg_swaps = sum(swaps) / repetitions\n",
    "        max_swaps = max(swaps)\n",
    "        \n",
    "        print(f\"List length: {length}\")\n",
    "        print(f\"Comparisons - Min: {min_comparisons}, Avg: {avg_comparisons}, Max: {max_comparisons}\")\n",
    "        print(f\"Swaps - Min: {min_swaps}, Avg: {avg_swaps}, Max: {max_swaps}\")\n",
    "        print()\n",
    "\n",
    "\n",
    "def quick_sort(arr):\n",
    "    comparisons = 0\n",
    "    swaps = 0\n",
    "    \n",
    "    return {'comparisons': comparisons, 'swaps': swaps}\n",
    "\n",
    "def generate_random_list(length):\n",
    "    return [random.randint(1, 100) for _ in range(length)]\n",
    "\n",
    "test_sorting_algorithm(quick_sort, generate_random_list, 10, [10, 100, 1000])\n"
   ]
  },
  {
   "cell_type": "code",
   "execution_count": 7,
   "id": "d6d8745f",
   "metadata": {},
   "outputs": [
    {
     "name": "stdout",
     "output_type": "stream",
     "text": [
      "[11, 12, 22, 25, 34, 64, 90]\n"
     ]
    }
   ],
   "source": [
    "def stone_bubble_sort(arr):\n",
    "    n = len(arr)\n",
    "    is_sorted = False\n",
    "    \n",
    "    while not is_sorted:\n",
    "        is_sorted = True\n",
    "        for i in range(1, n-1, 2):  # Проходы с чередованием\n",
    "            if arr[i] > arr[i+1]:\n",
    "                arr[i], arr[i+1] = arr[i+1], arr[i]\n",
    "                is_sorted = False\n",
    "        \n",
    "        for i in range(0, n-1, 2):  # Проходы с чередованием\n",
    "            if arr[i] > arr[i+1]:\n",
    "                arr[i], arr[i+1] = arr[i+1], arr[i]\n",
    "                is_sorted = False\n",
    "    \n",
    "    return arr\n",
    "\n",
    "# Пример тестирования\n",
    "arr = [64, 34, 25, 12, 22, 11, 90]\n",
    "sorted_arr = stone_bubble_sort(arr)\n",
    "print(sorted_arr)\n"
   ]
  },
  {
   "cell_type": "code",
   "execution_count": 12,
   "id": "309eb99a",
   "metadata": {},
   "outputs": [
    {
     "name": "stdout",
     "output_type": "stream",
     "text": [
      "Случайный список:\n",
      "Исходный: [21, 85, 72, 33, 48, 7, 32, 23, 76, 89]\n",
      "Пузырек: [7, 21, 23, 32, 33, 48, 72, 76, 85, 89]\n",
      "Камешек-пузырек: [7, 21, 23, 32, 33, 48, 72, 76, 85, 89]\n",
      "\n",
      "Отсортированный список:\n",
      "Исходный: [7, 21, 23, 32, 33, 48, 72, 76, 85, 89]\n",
      "Пузырек: [7, 21, 23, 32, 33, 48, 72, 76, 85, 89]\n",
      "Камешек-пузырек: [7, 21, 23, 32, 33, 48, 72, 76, 85, 89]\n",
      "\n",
      "Обратно отсортированный список:\n",
      "Исходный: [89, 85, 76, 72, 48, 33, 32, 23, 21, 7]\n",
      "Пузырек: [7, 21, 23, 32, 33, 48, 72, 76, 85, 89]\n",
      "Камешек-пузырек: [7, 21, 23, 32, 33, 48, 72, 76, 85, 89]\n"
     ]
    }
   ],
   "source": [
    "def bubble_sort(arr):\n",
    "    n = len(arr)\n",
    "    for i in range(n):\n",
    "        for j in range(0, n-i-1):\n",
    "            if arr[j] > arr[j+1]:\n",
    "                arr[j], arr[j+1] = arr[j+1], arr[j]\n",
    "    return arr\n",
    "\n",
    "def cocktail_sort(arr):\n",
    "    n = len(arr)\n",
    "    swapped = True\n",
    "    start = 0\n",
    "    end = n - 1\n",
    "    while swapped:\n",
    "        swapped = False\n",
    "        for i in range(start, end):\n",
    "            if arr[i] > arr[i+1]:\n",
    "                arr[i], arr[i+1] = arr[i+1], arr[i]\n",
    "                swapped = True\n",
    "        if not swapped:\n",
    "            break\n",
    "        swapped = False\n",
    "        end -= 1\n",
    "        for i in range(end-1, start-1, -1):\n",
    "            if arr[i] > arr[i+1]:\n",
    "                arr[i], arr[i+1] = arr[i+1], arr[i]\n",
    "                swapped = True\n",
    "        start += 1\n",
    "    return arr\n",
    "\n",
    "# Генерация случайного списка\n",
    "import random\n",
    "random_list = [random.randint(1, 100) for _ in range(10)]\n",
    "\n",
    "print(\"Случайный список:\")\n",
    "print(\"Исходный:\", random_list)\n",
    "print(\"Пузырек:\", bubble_sort(random_list.copy()))\n",
    "print(\"Камешек-пузырек:\", cocktail_sort(random_list.copy()))\n",
    "\n",
    "# Генерация отсортированного списка\n",
    "sorted_list = sorted(random_list)\n",
    "\n",
    "print(\"\\nОтсортированный список:\")\n",
    "print(\"Исходный:\", sorted_list)\n",
    "print(\"Пузырек:\", bubble_sort(sorted_list.copy()))\n",
    "print(\"Камешек-пузырек:\", cocktail_sort(sorted_list.copy()))\n",
    "\n",
    "# Генерация обратно отсортированного списка\n",
    "reverse_sorted_list = sorted(random_list, reverse=True)\n",
    "\n",
    "print(\"\\nОбратно отсортированный список:\")\n",
    "print(\"Исходный:\", reverse_sorted_list)\n",
    "print(\"Пузырек:\", bubble_sort(reverse_sorted_list.copy()))\n",
    "print(\"Камешек-пузырек:\", cocktail_sort(reverse_sorted_list.copy()))"
   ]
  },
  {
   "cell_type": "code",
   "execution_count": null,
   "id": "779a271a",
   "metadata": {},
   "outputs": [],
   "source": []
  }
 ],
 "metadata": {
  "kernelspec": {
   "display_name": "Python 3 (ipykernel)",
   "language": "python",
   "name": "python3"
  },
  "language_info": {
   "codemirror_mode": {
    "name": "ipython",
    "version": 3
   },
   "file_extension": ".py",
   "mimetype": "text/x-python",
   "name": "python",
   "nbconvert_exporter": "python",
   "pygments_lexer": "ipython3",
   "version": "3.9.7"
  }
 },
 "nbformat": 4,
 "nbformat_minor": 5
}
